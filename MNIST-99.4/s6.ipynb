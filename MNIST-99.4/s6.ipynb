{
  "cells": [
    {
      "cell_type": "code",
      "execution_count": 2,
      "metadata": {
        "id": "757ff3c0",
        "scrolled": true
      },
      "outputs": [],
      "source": [
        " %reload_ext autoreload\n",
        "\n",
        "import torch\n",
        "import torch.nn.functional as F\n",
        "import model, utils\n",
        "import torch.nn.functional as F\n",
        "import torch.optim as optim\n",
        "from torchvision import datasets\n",
        "from torchvision import transforms"
      ],
      "id": "757ff3c0"
    },
    {
      "cell_type": "code",
      "execution_count": 3,
      "metadata": {
        "colab": {
          "base_uri": "https://localhost:8080/"
        },
        "id": "eaf7e525",
        "outputId": "e3d37434-6243-4178-9c64-92ee529c25ca"
      },
      "outputs": [
        {
          "output_type": "stream",
          "name": "stdout",
          "text": [
            "CUDA Available:  True\n"
          ]
        }
      ],
      "source": [
        "device = utils.get_device()"
      ],
      "id": "eaf7e525"
    },
    {
      "cell_type": "code",
      "execution_count": 4,
      "metadata": {
        "id": "63422cae"
      },
      "outputs": [],
      "source": [
        "x, y = 28, 28\n",
        "mean = 0.1307\n",
        "std = 0.3081"
      ],
      "id": "63422cae"
    },
    {
      "cell_type": "code",
      "execution_count": 5,
      "metadata": {
        "id": "1112e2cf"
      },
      "outputs": [],
      "source": [
        "train_transforms = transforms.Compose([\n",
        "                    # Instead of 22 it would be random later on\n",
        "                    transforms.RandomApply([transforms.CenterCrop(22), ], p=0.1),\n",
        "                    transforms.Resize((x,  y)),\n",
        "                    transforms.RandomRotation((-15., 15.), fill=0),\n",
        "                    transforms.ToTensor(),\n",
        "                    transforms.Normalize((mean,), (std,)),\n",
        "                    ])\n",
        "test_transforms = transforms.Compose([\n",
        "                    transforms.ToTensor(),\n",
        "                    transforms.Normalize((mean,), (std,))\n",
        "                    ])"
      ],
      "id": "1112e2cf"
    },
    {
      "cell_type": "code",
      "execution_count": 6,
      "metadata": {
        "id": "76ba0341",
        "colab": {
          "base_uri": "https://localhost:8080/"
        },
        "outputId": "9990b700-d94b-48bf-f2f5-cd6011f99644"
      },
      "outputs": [
        {
          "output_type": "stream",
          "name": "stdout",
          "text": [
            "Downloading http://yann.lecun.com/exdb/mnist/train-images-idx3-ubyte.gz\n",
            "Downloading http://yann.lecun.com/exdb/mnist/train-images-idx3-ubyte.gz to ../data/MNIST/raw/train-images-idx3-ubyte.gz\n"
          ]
        },
        {
          "output_type": "stream",
          "name": "stderr",
          "text": [
            "100%|██████████| 9912422/9912422 [00:00<00:00, 153249087.69it/s]"
          ]
        },
        {
          "output_type": "stream",
          "name": "stdout",
          "text": [
            "Extracting ../data/MNIST/raw/train-images-idx3-ubyte.gz to ../data/MNIST/raw\n"
          ]
        },
        {
          "output_type": "stream",
          "name": "stderr",
          "text": [
            "\n"
          ]
        },
        {
          "output_type": "stream",
          "name": "stdout",
          "text": [
            "\n",
            "Downloading http://yann.lecun.com/exdb/mnist/train-labels-idx1-ubyte.gz\n",
            "Downloading http://yann.lecun.com/exdb/mnist/train-labels-idx1-ubyte.gz to ../data/MNIST/raw/train-labels-idx1-ubyte.gz\n"
          ]
        },
        {
          "output_type": "stream",
          "name": "stderr",
          "text": [
            "100%|██████████| 28881/28881 [00:00<00:00, 20939618.64it/s]\n"
          ]
        },
        {
          "output_type": "stream",
          "name": "stdout",
          "text": [
            "Extracting ../data/MNIST/raw/train-labels-idx1-ubyte.gz to ../data/MNIST/raw\n",
            "\n",
            "Downloading http://yann.lecun.com/exdb/mnist/t10k-images-idx3-ubyte.gz\n",
            "Downloading http://yann.lecun.com/exdb/mnist/t10k-images-idx3-ubyte.gz to ../data/MNIST/raw/t10k-images-idx3-ubyte.gz\n"
          ]
        },
        {
          "output_type": "stream",
          "name": "stderr",
          "text": [
            "100%|██████████| 1648877/1648877 [00:00<00:00, 65036876.72it/s]"
          ]
        },
        {
          "output_type": "stream",
          "name": "stdout",
          "text": [
            "Extracting ../data/MNIST/raw/t10k-images-idx3-ubyte.gz to ../data/MNIST/raw\n",
            "\n",
            "Downloading http://yann.lecun.com/exdb/mnist/t10k-labels-idx1-ubyte.gz\n"
          ]
        },
        {
          "output_type": "stream",
          "name": "stderr",
          "text": [
            "\n"
          ]
        },
        {
          "output_type": "stream",
          "name": "stdout",
          "text": [
            "Downloading http://yann.lecun.com/exdb/mnist/t10k-labels-idx1-ubyte.gz to ../data/MNIST/raw/t10k-labels-idx1-ubyte.gz\n"
          ]
        },
        {
          "output_type": "stream",
          "name": "stderr",
          "text": [
            "100%|██████████| 4542/4542 [00:00<00:00, 20331407.44it/s]\n"
          ]
        },
        {
          "output_type": "stream",
          "name": "stdout",
          "text": [
            "Extracting ../data/MNIST/raw/t10k-labels-idx1-ubyte.gz to ../data/MNIST/raw\n",
            "\n"
          ]
        }
      ],
      "source": [
        "train_data = datasets.MNIST('../data', train=True, download=True, transform=train_transforms)\n",
        "test_data = datasets.MNIST('../data', train=False, download=True, transform=test_transforms)"
      ],
      "id": "76ba0341"
    },
    {
      "cell_type": "code",
      "execution_count": 7,
      "metadata": {
        "id": "dc97812f"
      },
      "outputs": [],
      "source": [
        "batch_size = 256\n",
        "\n",
        "kwargs = {'batch_size': batch_size, 'shuffle': False, 'num_workers': 2, 'pin_memory': True}\n",
        "\n",
        "test_loader = torch.utils.data.DataLoader(test_data, **kwargs)\n",
        "train_loader = torch.utils.data.DataLoader(train_data, **kwargs)"
      ],
      "id": "dc97812f"
    },
    {
      "cell_type": "code",
      "execution_count": 8,
      "metadata": {
        "colab": {
          "base_uri": "https://localhost:8080/",
          "height": 463
        },
        "id": "ffe90e96",
        "outputId": "7e760468-d79a-4366-f6fc-7799d5902cec"
      },
      "outputs": [
        {
          "output_type": "display_data",
          "data": {
            "text/plain": [
              "<Figure size 640x480 with 12 Axes>"
            ],
            "image/png": "[encoded data removed]"
          },
          "metadata": {}
        }
      ],
      "source": [
        "import matplotlib.pyplot as plt\n",
        "\n",
        "batch_data, batch_label = next(iter(train_loader)) \n",
        "\n",
        "fig = plt.figure()\n",
        "\n",
        "for i in range(12):\n",
        "  plt.subplot(3,4,i+1)\n",
        "  plt.tight_layout()\n",
        "  plt.imshow(batch_data[i].squeeze(0), cmap='gray')\n",
        "  plt.title(batch_label[i].item())\n",
        "  plt.xticks([])\n",
        "  plt.yticks([])"
      ],
      "id": "ffe90e96"
    },
    {
      "cell_type": "code",
      "execution_count": 9,
      "metadata": {
        "id": "b00bb30b"
      },
      "outputs": [],
      "source": [
        "cnn_model = model.Net().to(device) #utils.send_model_to_device(model.Net, device)"
      ],
      "id": "b00bb30b"
    },
    {
      "cell_type": "code",
      "execution_count": 10,
      "metadata": {
        "colab": {
          "base_uri": "https://localhost:8080/"
        },
        "id": "d8932ae7",
        "outputId": "3fbf7fdf-0db5-4e35-82e6-58e5d7f5d74e"
      },
      "outputs": [
        {
          "output_type": "stream",
          "name": "stdout",
          "text": [
            "Adjusting learning rate of group 0 to 1.0000e-02.\n"
          ]
        }
      ],
      "source": [
        "optimizer = optim.SGD(cnn_model.parameters(), lr=0.01, momentum=0.9)\n",
        "scheduler = optim.lr_scheduler.StepLR(optimizer, step_size=15, gamma=0.1, verbose=True)"
      ],
      "id": "d8932ae7"
    },
    {
      "cell_type": "code",
      "execution_count": 11,
      "metadata": {
        "colab": {
          "base_uri": "https://localhost:8080/"
        },
        "id": "6ebeeb9b",
        "outputId": "7d620b18-b88a-4a4e-8d71-5615b0d15948"
      },
      "outputs": [
        {
          "output_type": "stream",
          "name": "stdout",
          "text": [
            "Epoch 1\n"
          ]
        },
        {
          "output_type": "stream",
          "name": "stderr",
          "text": [
            "Train: Loss=0.1756 Batch_id=234 Accuracy=80.53: 100%|██████████| 235/235 [01:41<00:00,  2.33it/s]\n"
          ]
        },
        {
          "output_type": "stream",
          "name": "stdout",
          "text": [
            "Test set: Average loss: 0.0634, Accuracy: 9808/10000 (98.08%)\n",
            "\n",
            "Adjusting learning rate of group 0 to 1.0000e-02.\n",
            "Epoch 2\n"
          ]
        },
        {
          "output_type": "stream",
          "name": "stderr",
          "text": [
            "Train: Loss=0.1393 Batch_id=234 Accuracy=97.31: 100%|██████████| 235/235 [01:41<00:00,  2.32it/s]\n"
          ]
        },
        {
          "output_type": "stream",
          "name": "stdout",
          "text": [
            "Test set: Average loss: 0.0432, Accuracy: 9867/10000 (98.67%)\n",
            "\n",
            "Adjusting learning rate of group 0 to 1.0000e-02.\n",
            "Epoch 3\n"
          ]
        },
        {
          "output_type": "stream",
          "name": "stderr",
          "text": [
            "Train: Loss=0.1740 Batch_id=234 Accuracy=98.08: 100%|██████████| 235/235 [01:41<00:00,  2.31it/s]\n"
          ]
        },
        {
          "output_type": "stream",
          "name": "stdout",
          "text": [
            "Test set: Average loss: 0.0369, Accuracy: 9886/10000 (98.86%)\n",
            "\n",
            "Adjusting learning rate of group 0 to 1.0000e-02.\n",
            "Epoch 4\n"
          ]
        },
        {
          "output_type": "stream",
          "name": "stderr",
          "text": [
            "Train: Loss=0.1632 Batch_id=234 Accuracy=98.25: 100%|██████████| 235/235 [01:43<00:00,  2.27it/s]\n"
          ]
        },
        {
          "output_type": "stream",
          "name": "stdout",
          "text": [
            "Test set: Average loss: 0.0309, Accuracy: 9902/10000 (99.02%)\n",
            "\n",
            "Adjusting learning rate of group 0 to 1.0000e-02.\n",
            "Epoch 5\n"
          ]
        },
        {
          "output_type": "stream",
          "name": "stderr",
          "text": [
            "Train: Loss=0.2257 Batch_id=234 Accuracy=98.46: 100%|██████████| 235/235 [01:40<00:00,  2.35it/s]\n"
          ]
        },
        {
          "output_type": "stream",
          "name": "stdout",
          "text": [
            "Test set: Average loss: 0.0278, Accuracy: 9915/10000 (99.15%)\n",
            "\n",
            "Adjusting learning rate of group 0 to 1.0000e-02.\n",
            "Epoch 6\n"
          ]
        },
        {
          "output_type": "stream",
          "name": "stderr",
          "text": [
            "Train: Loss=0.1446 Batch_id=234 Accuracy=98.60: 100%|██████████| 235/235 [01:41<00:00,  2.32it/s]\n"
          ]
        },
        {
          "output_type": "stream",
          "name": "stdout",
          "text": [
            "Test set: Average loss: 0.0239, Accuracy: 9930/10000 (99.30%)\n",
            "\n",
            "Adjusting learning rate of group 0 to 1.0000e-02.\n",
            "Epoch 7\n"
          ]
        },
        {
          "output_type": "stream",
          "name": "stderr",
          "text": [
            "Train: Loss=0.1484 Batch_id=234 Accuracy=98.64: 100%|██████████| 235/235 [01:41<00:00,  2.31it/s]\n"
          ]
        },
        {
          "output_type": "stream",
          "name": "stdout",
          "text": [
            "Test set: Average loss: 0.0240, Accuracy: 9927/10000 (99.27%)\n",
            "\n",
            "Adjusting learning rate of group 0 to 1.0000e-02.\n",
            "Epoch 8\n"
          ]
        },
        {
          "output_type": "stream",
          "name": "stderr",
          "text": [
            "Train: Loss=0.1209 Batch_id=234 Accuracy=98.81: 100%|██████████| 235/235 [01:40<00:00,  2.34it/s]\n"
          ]
        },
        {
          "output_type": "stream",
          "name": "stdout",
          "text": [
            "Test set: Average loss: 0.0225, Accuracy: 9928/10000 (99.28%)\n",
            "\n",
            "Adjusting learning rate of group 0 to 1.0000e-02.\n",
            "Epoch 9\n"
          ]
        },
        {
          "output_type": "stream",
          "name": "stderr",
          "text": [
            "Train: Loss=0.1443 Batch_id=234 Accuracy=98.89: 100%|██████████| 235/235 [01:41<00:00,  2.31it/s]\n"
          ]
        },
        {
          "output_type": "stream",
          "name": "stdout",
          "text": [
            "Test set: Average loss: 0.0204, Accuracy: 9939/10000 (99.39%)\n",
            "\n",
            "Adjusting learning rate of group 0 to 1.0000e-02.\n",
            "Epoch 10\n"
          ]
        },
        {
          "output_type": "stream",
          "name": "stderr",
          "text": [
            "Train: Loss=0.1083 Batch_id=234 Accuracy=98.91: 100%|██████████| 235/235 [01:40<00:00,  2.34it/s]\n"
          ]
        },
        {
          "output_type": "stream",
          "name": "stdout",
          "text": [
            "Test set: Average loss: 0.0206, Accuracy: 9936/10000 (99.36%)\n",
            "\n",
            "Adjusting learning rate of group 0 to 1.0000e-02.\n",
            "Epoch 11\n"
          ]
        },
        {
          "output_type": "stream",
          "name": "stderr",
          "text": [
            "Train: Loss=0.1494 Batch_id=234 Accuracy=98.92: 100%|██████████| 235/235 [01:40<00:00,  2.34it/s]\n"
          ]
        },
        {
          "output_type": "stream",
          "name": "stdout",
          "text": [
            "Test set: Average loss: 0.0210, Accuracy: 9938/10000 (99.38%)\n",
            "\n",
            "Adjusting learning rate of group 0 to 1.0000e-02.\n",
            "Epoch 12\n"
          ]
        },
        {
          "output_type": "stream",
          "name": "stderr",
          "text": [
            "Train: Loss=0.1389 Batch_id=234 Accuracy=98.97: 100%|██████████| 235/235 [01:41<00:00,  2.30it/s]\n"
          ]
        },
        {
          "output_type": "stream",
          "name": "stdout",
          "text": [
            "Test set: Average loss: 0.0203, Accuracy: 9943/10000 (99.43%)\n",
            "\n",
            "Adjusting learning rate of group 0 to 1.0000e-02.\n",
            "Epoch 13\n"
          ]
        },
        {
          "output_type": "stream",
          "name": "stderr",
          "text": [
            "Train: Loss=0.1148 Batch_id=234 Accuracy=98.99: 100%|██████████| 235/235 [01:40<00:00,  2.33it/s]\n"
          ]
        },
        {
          "output_type": "stream",
          "name": "stdout",
          "text": [
            "Test set: Average loss: 0.0205, Accuracy: 9937/10000 (99.37%)\n",
            "\n",
            "Adjusting learning rate of group 0 to 1.0000e-02.\n",
            "Epoch 14\n"
          ]
        },
        {
          "output_type": "stream",
          "name": "stderr",
          "text": [
            "Train: Loss=0.0958 Batch_id=234 Accuracy=99.01: 100%|██████████| 235/235 [01:40<00:00,  2.33it/s]\n"
          ]
        },
        {
          "output_type": "stream",
          "name": "stdout",
          "text": [
            "Test set: Average loss: 0.0176, Accuracy: 9943/10000 (99.43%)\n",
            "\n",
            "Adjusting learning rate of group 0 to 1.0000e-02.\n",
            "Epoch 15\n"
          ]
        },
        {
          "output_type": "stream",
          "name": "stderr",
          "text": [
            "Train: Loss=0.1203 Batch_id=234 Accuracy=99.01: 100%|██████████| 235/235 [01:42<00:00,  2.30it/s]\n"
          ]
        },
        {
          "output_type": "stream",
          "name": "stdout",
          "text": [
            "Test set: Average loss: 0.0191, Accuracy: 9942/10000 (99.42%)\n",
            "\n",
            "Adjusting learning rate of group 0 to 1.0000e-03.\n",
            "Epoch 16\n"
          ]
        },
        {
          "output_type": "stream",
          "name": "stderr",
          "text": [
            "Train: Loss=0.1427 Batch_id=234 Accuracy=99.21: 100%|██████████| 235/235 [01:42<00:00,  2.29it/s]\n"
          ]
        },
        {
          "output_type": "stream",
          "name": "stdout",
          "text": [
            "Test set: Average loss: 0.0171, Accuracy: 9940/10000 (99.40%)\n",
            "\n",
            "Adjusting learning rate of group 0 to 1.0000e-03.\n",
            "Epoch 17\n"
          ]
        },
        {
          "output_type": "stream",
          "name": "stderr",
          "text": [
            "Train: Loss=0.1767 Batch_id=234 Accuracy=99.21: 100%|██████████| 235/235 [01:41<00:00,  2.30it/s]\n"
          ]
        },
        {
          "output_type": "stream",
          "name": "stdout",
          "text": [
            "Test set: Average loss: 0.0168, Accuracy: 9938/10000 (99.38%)\n",
            "\n",
            "Adjusting learning rate of group 0 to 1.0000e-03.\n",
            "Epoch 18\n"
          ]
        },
        {
          "output_type": "stream",
          "name": "stderr",
          "text": [
            "Train: Loss=0.1130 Batch_id=234 Accuracy=99.31: 100%|██████████| 235/235 [01:43<00:00,  2.27it/s]\n"
          ]
        },
        {
          "output_type": "stream",
          "name": "stdout",
          "text": [
            "Test set: Average loss: 0.0164, Accuracy: 9942/10000 (99.42%)\n",
            "\n",
            "Adjusting learning rate of group 0 to 1.0000e-03.\n",
            "Epoch 19\n"
          ]
        },
        {
          "output_type": "stream",
          "name": "stderr",
          "text": [
            "Train: Loss=0.1045 Batch_id=234 Accuracy=99.29: 100%|██████████| 235/235 [01:42<00:00,  2.29it/s]\n"
          ]
        },
        {
          "output_type": "stream",
          "name": "stdout",
          "text": [
            "Test set: Average loss: 0.0164, Accuracy: 9940/10000 (99.40%)\n",
            "\n",
            "Adjusting learning rate of group 0 to 1.0000e-03.\n",
            "Epoch 20\n"
          ]
        },
        {
          "output_type": "stream",
          "name": "stderr",
          "text": [
            "Train: Loss=0.1631 Batch_id=234 Accuracy=99.28: 100%|██████████| 235/235 [01:42<00:00,  2.29it/s]\n"
          ]
        },
        {
          "output_type": "stream",
          "name": "stdout",
          "text": [
            "Test set: Average loss: 0.0161, Accuracy: 9945/10000 (99.45%)\n",
            "\n",
            "Adjusting learning rate of group 0 to 1.0000e-03.\n"
          ]
        }
      ],
      "source": [
        "utils.run_for_epoch(20, cnn_model, device, train_loader, test_loader, optimizer, scheduler)"
      ],
      "id": "6ebeeb9b"
    },
    {
      "cell_type": "code",
      "execution_count": 12,
      "metadata": {
        "colab": {
          "base_uri": "https://localhost:8080/"
        },
        "id": "1FQK-Uh6ihgL",
        "outputId": "8fa6cf8b-fee9-4ec6-b445-58dbe49791f5"
      },
      "outputs": [
        {
          "output_type": "stream",
          "name": "stdout",
          "text": [
            "Looking in indexes: https://pypi.org/simple, https://us-python.pkg.dev/colab-wheels/public/simple/\n",
            "Requirement already satisfied: torchsummary in /usr/local/lib/python3.10/dist-packages (1.5.1)\n",
            "----------------------------------------------------------------\n",
            "        Layer (type)               Output Shape         Param #\n",
            "================================================================\n",
            "            Conv2d-1           [-1, 32, 26, 26]             288\n",
            "              ReLU-2           [-1, 32, 26, 26]               0\n",
            "       BatchNorm2d-3           [-1, 32, 26, 26]              64\n",
            "           Dropout-4           [-1, 32, 26, 26]               0\n",
            "            Conv2d-5           [-1, 16, 26, 26]             512\n",
            "              ReLU-6           [-1, 16, 26, 26]               0\n",
            "       BatchNorm2d-7           [-1, 16, 26, 26]              32\n",
            "           Dropout-8           [-1, 16, 26, 26]               0\n",
            "            Conv2d-9           [-1, 32, 24, 24]           4,608\n",
            "             ReLU-10           [-1, 32, 24, 24]               0\n",
            "      BatchNorm2d-11           [-1, 32, 24, 24]              64\n",
            "          Dropout-12           [-1, 32, 24, 24]               0\n",
            "           Conv2d-13           [-1, 16, 24, 24]             512\n",
            "             ReLU-14           [-1, 16, 24, 24]               0\n",
            "      BatchNorm2d-15           [-1, 16, 24, 24]              32\n",
            "          Dropout-16           [-1, 16, 24, 24]               0\n",
            "        MaxPool2d-17           [-1, 16, 12, 12]               0\n",
            "             ReLU-18           [-1, 16, 12, 12]               0\n",
            "      BatchNorm2d-19           [-1, 16, 12, 12]              32\n",
            "           Conv2d-20           [-1, 16, 10, 10]           2,304\n",
            "             ReLU-21           [-1, 16, 10, 10]               0\n",
            "      BatchNorm2d-22           [-1, 16, 10, 10]              32\n",
            "          Dropout-23           [-1, 16, 10, 10]               0\n",
            "           Conv2d-24             [-1, 32, 8, 8]           4,608\n",
            "             ReLU-25             [-1, 32, 8, 8]               0\n",
            "      BatchNorm2d-26             [-1, 32, 8, 8]              64\n",
            "          Dropout-27             [-1, 32, 8, 8]               0\n",
            "           Conv2d-28             [-1, 16, 8, 8]             512\n",
            "             ReLU-29             [-1, 16, 8, 8]               0\n",
            "      BatchNorm2d-30             [-1, 16, 8, 8]              32\n",
            "          Dropout-31             [-1, 16, 8, 8]               0\n",
            "        MaxPool2d-32             [-1, 16, 4, 4]               0\n",
            "             ReLU-33             [-1, 16, 4, 4]               0\n",
            "      BatchNorm2d-34             [-1, 16, 4, 4]              32\n",
            "           Linear-35                   [-1, 10]           2,560\n",
            "           Linear-36                   [-1, 10]             100\n",
            "================================================================\n",
            "Total params: 16,388\n",
            "Trainable params: 16,388\n",
            "Non-trainable params: 0\n",
            "----------------------------------------------------------------\n",
            "Input size (MB): 0.00\n",
            "Forward/backward pass size (MB): 2.04\n",
            "Params size (MB): 0.06\n",
            "Estimated Total Size (MB): 2.10\n",
            "----------------------------------------------------------------\n"
          ]
        }
      ],
      "source": [
        "!pip install torchsummary\n",
        "from torchsummary import summary\n",
        "use_cuda = torch.cuda.is_available()\n",
        "device = torch.device(\"cuda\" if use_cuda else \"cpu\")\n",
        "model = model.Net().to(device)\n",
        "summary(model, input_size=(1, 28, 28))"
      ],
      "id": "1FQK-Uh6ihgL"
    },
    {
      "cell_type": "code",
      "execution_count": 13,
      "metadata": {
        "colab": {
          "base_uri": "https://localhost:8080/",
          "height": 605
        },
        "id": "58fd849c",
        "outputId": "b2f5c59f-36f0-4aec-8fe0-cf24d8987ffc"
      },
      "outputs": [
        {
          "output_type": "display_data",
          "data": {
            "text/plain": [
              "<Figure size 1500x1000 with 4 Axes>"
            ],
            "image/png": "[encoded data removed]"
          },
          "metadata": {}
        }
      ],
      "source": [
        "utils.plot_loss_accuracy_graph()"
      ],
      "id": "58fd849c"
    }
  ],
  "metadata": {
    "accelerator": "GPU",
    "colab": {
      "provenance": [],
      "gpuType": "T4"
    },
    "kernelspec": {
      "display_name": "Python 3",
      "name": "python3"
    },
    "language_info": {
      "codemirror_mode": {
        "name": "ipython",
        "version": 3
      },
      "file_extension": ".py",
      "mimetype": "text/x-python",
      "name": "python",
      "nbconvert_exporter": "python",
      "pygments_lexer": "ipython3",
      "version": "3.8.10"
    }
  },
  "nbformat": 4,
  "nbformat_minor": 5
}