import model, utils
import torch.optim as optim
from torchvision import datasets

x = y = 28
mean = 0.1307 # TODO add function which calculates these three lines
std = 0.3081

batch_size = 256
# Data to plot accuracy and loss graphs
train_losses = []
test_losses = []
train_acc = []
test_acc = []

test_incorrect_pred = {'images': [], 'ground_truths': [], 'predicted_vals': []}

device = utils.get_device()
cnn_model = utils.send_model_to_device(model.Net, device)
train_transforms = utils.get_transforms_for_train_data(x, y, mean, std)
test_transforms = utils.get_transforms_for_test_data(mean, std)
train_data = datasets.MNIST('../data', train=True, download=True, transform=train_transforms)
test_data = datasets.MNIST('../data', train=False, download=True, transform=test_transforms)
train_loader = utils.get_loader(train_data, batch_size)
test_loader = utils.get_loader(test_data, batch_size)

optimizer = optim.SGD(cnn_model.parameters(), lr=0.01, momentum=0.9)
scheduler = optim.lr_scheduler.StepLR(optimizer, step_size=2, gamma=0.5, verbose=True)

utils.run_for_epoch(2, cnn_model, device, train_loader, test_loader, optimizer, scheduler, train_acc, train_losses)

utils.get_model_summary(cnn_model, device, x, y)
