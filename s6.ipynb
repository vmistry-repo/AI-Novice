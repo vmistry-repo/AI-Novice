{
 "cells": [
  {
   "cell_type": "code",
   "execution_count": 1,
   "id": "757ff3c0",
   "metadata": {
    "scrolled": true
   },
   "outputs": [],
   "source": [
    " %reload_ext autoreload\n",
    "\n",
    "import torch\n",
    "import torch.nn.functional as F\n",
    "import model1 as model, utils\n",
    "import torch.nn.functional as F\n",
    "import torch.optim as optim\n",
    "from torchvision import datasets\n",
    "from torchvision import transforms"
   ]
  },
  {
   "cell_type": "code",
   "execution_count": 2,
   "id": "eaf7e525",
   "metadata": {},
   "outputs": [
    {
     "name": "stdout",
     "output_type": "stream",
     "text": [
      "CUDA Available:  False\n"
     ]
    }
   ],
   "source": [
    "device = utils.get_device()"
   ]
  },
  {
   "cell_type": "code",
   "execution_count": 3,
   "id": "63422cae",
   "metadata": {},
   "outputs": [],
   "source": [
    "x, y = 28, 28\n",
    "mean = 0.1307\n",
    "std = 0.3081"
   ]
  },
  {
   "cell_type": "code",
   "execution_count": 4,
   "id": "1112e2cf",
   "metadata": {},
   "outputs": [],
   "source": [
    "train_transforms = transforms.Compose([\n",
    "                    # Instead of 22 it would be random later on\n",
    "                    transforms.RandomApply([transforms.CenterCrop(22), ], p=0.1),\n",
    "                    transforms.Resize((x,  y)),\n",
    "                    transforms.RandomRotation((-15., 15.), fill=0),\n",
    "                    transforms.ToTensor(),\n",
    "                    transforms.Normalize((mean,), (std,)),\n",
    "                    ])\n",
    "test_transforms = transforms.Compose([\n",
    "                    transforms.ToTensor(),\n",
    "                    transforms.Normalize((mean,), (std,))\n",
    "                    ])"
   ]
  },
  {
   "cell_type": "code",
   "execution_count": 5,
   "id": "76ba0341",
   "metadata": {},
   "outputs": [
    {
     "name": "stderr",
     "output_type": "stream",
     "text": [
      "/home/vmistry/.local/lib/python3.8/site-packages/torchvision/datasets/mnist.py:498: UserWarning: The given NumPy array is not writeable, and PyTorch does not support non-writeable tensors. This means you can write to the underlying (supposedly non-writeable) NumPy array using the tensor. You may want to copy the array to protect its data or make it writeable before converting it to a tensor. This type of warning will be suppressed for the rest of this program. (Triggered internally at  ../torch/csrc/utils/tensor_numpy.cpp:180.)\n",
      "  return torch.from_numpy(parsed.astype(m[2], copy=False)).view(*s)\n"
     ]
    }
   ],
   "source": [
    "train_data = datasets.MNIST('../data', train=True, download=True, transform=train_transforms)\n",
    "test_data = datasets.MNIST('../data', train=False, download=True, transform=test_transforms)"
   ]
  },
  {
   "cell_type": "code",
   "execution_count": 6,
   "id": "dc97812f",
   "metadata": {},
   "outputs": [],
   "source": [
    "batch_size = 256\n",
    "\n",
    "kwargs = {'batch_size': batch_size, 'shuffle': False, 'num_workers': 4, 'pin_memory': True}\n",
    "\n",
    "test_loader = torch.utils.data.DataLoader(test_data, **kwargs)\n",
    "train_loader = torch.utils.data.DataLoader(train_data, **kwargs)"
   ]
  },
  {
   "cell_type": "code",
   "execution_count": 7,
   "id": "ffe90e96",
   "metadata": {},
   "outputs": [
    {
     "data": {
      "image/png": "[encoded data removed]",
      "text/plain": [
       "<Figure size 640x480 with 12 Axes>"
      ]
     },
     "metadata": {},
     "output_type": "display_data"
    }
   ],
   "source": [
    "import matplotlib.pyplot as plt\n",
    "\n",
    "batch_data, batch_label = next(iter(train_loader)) \n",
    "\n",
    "fig = plt.figure()\n",
    "\n",
    "for i in range(12):\n",
    "  plt.subplot(3,4,i+1)\n",
    "  plt.tight_layout()\n",
    "  plt.imshow(batch_data[i].squeeze(0), cmap='gray')\n",
    "  plt.title(batch_label[i].item())\n",
    "  plt.xticks([])\n",
    "  plt.yticks([])"
   ]
  },
  {
   "cell_type": "code",
   "execution_count": 8,
   "id": "b00bb30b",
   "metadata": {},
   "outputs": [],
   "source": [
    "cnn_model = utils.send_model_to_device(model.Net, device)"
   ]
  },
  {
   "cell_type": "code",
   "execution_count": 9,
   "id": "70f23ed9",
   "metadata": {},
   "outputs": [
    {
     "name": "stdout",
     "output_type": "stream",
     "text": [
      "----------------------------------------------------------------\n",
      "        Layer (type)               Output Shape         Param #\n",
      "================================================================\n",
      "            Conv2d-1           [-1, 32, 26, 26]             288\n",
      "              ReLU-2           [-1, 32, 26, 26]               0\n",
      "       BatchNorm2d-3           [-1, 32, 26, 26]              64\n",
      "           Dropout-4           [-1, 32, 26, 26]               0\n",
      "            Conv2d-5           [-1, 16, 26, 26]             512\n",
      "              ReLU-6           [-1, 16, 26, 26]               0\n",
      "       BatchNorm2d-7           [-1, 16, 26, 26]              32\n",
      "           Dropout-8           [-1, 16, 26, 26]               0\n",
      "            Conv2d-9           [-1, 32, 24, 24]           4,608\n",
      "             ReLU-10           [-1, 32, 24, 24]               0\n",
      "      BatchNorm2d-11           [-1, 32, 24, 24]              64\n",
      "          Dropout-12           [-1, 32, 24, 24]               0\n",
      "           Conv2d-13           [-1, 16, 24, 24]             512\n",
      "             ReLU-14           [-1, 16, 24, 24]               0\n",
      "      BatchNorm2d-15           [-1, 16, 24, 24]              32\n",
      "          Dropout-16           [-1, 16, 24, 24]               0\n",
      "        MaxPool2d-17           [-1, 16, 12, 12]               0\n",
      "             ReLU-18           [-1, 16, 12, 12]               0\n",
      "      BatchNorm2d-19           [-1, 16, 12, 12]              32\n",
      "           Conv2d-20           [-1, 16, 10, 10]           2,304\n",
      "             ReLU-21           [-1, 16, 10, 10]               0\n",
      "      BatchNorm2d-22           [-1, 16, 10, 10]              32\n",
      "          Dropout-23           [-1, 16, 10, 10]               0\n",
      "           Conv2d-24             [-1, 32, 8, 8]           4,608\n",
      "             ReLU-25             [-1, 32, 8, 8]               0\n",
      "      BatchNorm2d-26             [-1, 32, 8, 8]              64\n",
      "          Dropout-27             [-1, 32, 8, 8]               0\n",
      "           Conv2d-28             [-1, 16, 8, 8]             512\n",
      "             ReLU-29             [-1, 16, 8, 8]               0\n",
      "      BatchNorm2d-30             [-1, 16, 8, 8]              32\n",
      "          Dropout-31             [-1, 16, 8, 8]               0\n",
      "        MaxPool2d-32             [-1, 16, 4, 4]               0\n",
      "             ReLU-33             [-1, 16, 4, 4]               0\n",
      "      BatchNorm2d-34             [-1, 16, 4, 4]              32\n",
      "           Linear-35                   [-1, 10]           2,560\n",
      "           Linear-36                   [-1, 10]             100\n",
      "================================================================\n",
      "Total params: 16,388\n",
      "Trainable params: 16,388\n",
      "Non-trainable params: 0\n",
      "----------------------------------------------------------------\n",
      "Input size (MB): 0.00\n",
      "Forward/backward pass size (MB): 2.04\n",
      "Params size (MB): 0.06\n",
      "Estimated Total Size (MB): 2.10\n",
      "----------------------------------------------------------------\n"
     ]
    }
   ],
   "source": [
    "utils.get_model_summary(cnn_model, device, x, y)"
   ]
  },
  {
   "cell_type": "code",
   "execution_count": 10,
   "id": "d8932ae7",
   "metadata": {},
   "outputs": [
    {
     "name": "stdout",
     "output_type": "stream",
     "text": [
      "Adjusting learning rate of group 0 to 1.0000e-02.\n"
     ]
    }
   ],
   "source": [
    "optimizer = optim.SGD(cnn_model.parameters(), lr=0.01, momentum=0.9)\n",
    "scheduler = optim.lr_scheduler.StepLR(optimizer, step_size=15, gamma=0.1, verbose=True)"
   ]
  },
  {
   "cell_type": "code",
   "execution_count": 11,
   "id": "6ebeeb9b",
   "metadata": {},
   "outputs": [
    {
     "name": "stdout",
     "output_type": "stream",
     "text": [
      "Epoch 1\n"
     ]
    },
    {
     "name": "stderr",
     "output_type": "stream",
     "text": [
      "Train: Loss=0.1928 Batch_id=234 Accuracy=79.34: 100%|█| 235/235 [00:58<00:00,  4\n"
     ]
    },
    {
     "name": "stdout",
     "output_type": "stream",
     "text": [
      "Test set: Average loss: 0.0820, Accuracy: 9766/10000 (97.66%)\n",
      "\n",
      "Adjusting learning rate of group 0 to 1.0000e-02.\n",
      "Epoch 2\n"
     ]
    },
    {
     "name": "stderr",
     "output_type": "stream",
     "text": [
      "Train: Loss=0.1860 Batch_id=234 Accuracy=96.72: 100%|█| 235/235 [01:00<00:00,  3\n"
     ]
    },
    {
     "name": "stdout",
     "output_type": "stream",
     "text": [
      "Test set: Average loss: 0.0560, Accuracy: 9827/10000 (98.27%)\n",
      "\n",
      "Adjusting learning rate of group 0 to 1.0000e-02.\n",
      "Epoch 3\n"
     ]
    },
    {
     "name": "stderr",
     "output_type": "stream",
     "text": [
      "Train: Loss=0.1820 Batch_id=234 Accuracy=97.56: 100%|█| 235/235 [00:57<00:00,  4\n"
     ]
    },
    {
     "name": "stdout",
     "output_type": "stream",
     "text": [
      "Test set: Average loss: 0.0431, Accuracy: 9877/10000 (98.77%)\n",
      "\n",
      "Adjusting learning rate of group 0 to 1.0000e-02.\n",
      "Epoch 4\n"
     ]
    },
    {
     "name": "stderr",
     "output_type": "stream",
     "text": [
      "Train: Loss=0.1642 Batch_id=234 Accuracy=97.94: 100%|█| 235/235 [01:00<00:00,  3\n"
     ]
    },
    {
     "name": "stdout",
     "output_type": "stream",
     "text": [
      "Test set: Average loss: 0.0378, Accuracy: 9893/10000 (98.93%)\n",
      "\n",
      "Adjusting learning rate of group 0 to 1.0000e-02.\n",
      "Epoch 5\n"
     ]
    },
    {
     "name": "stderr",
     "output_type": "stream",
     "text": [
      "Train: Loss=0.1445 Batch_id=234 Accuracy=98.15: 100%|█| 235/235 [01:01<00:00,  3\n"
     ]
    },
    {
     "name": "stdout",
     "output_type": "stream",
     "text": [
      "Test set: Average loss: 0.0359, Accuracy: 9899/10000 (98.99%)\n",
      "\n",
      "Adjusting learning rate of group 0 to 1.0000e-02.\n",
      "Epoch 6\n"
     ]
    },
    {
     "name": "stderr",
     "output_type": "stream",
     "text": [
      "Train: Loss=0.1332 Batch_id=234 Accuracy=98.35: 100%|█| 235/235 [00:57<00:00,  4\n"
     ]
    },
    {
     "name": "stdout",
     "output_type": "stream",
     "text": [
      "Test set: Average loss: 0.0332, Accuracy: 9908/10000 (99.08%)\n",
      "\n",
      "Adjusting learning rate of group 0 to 1.0000e-02.\n",
      "Epoch 7\n"
     ]
    },
    {
     "name": "stderr",
     "output_type": "stream",
     "text": [
      "Train: Loss=0.1505 Batch_id=234 Accuracy=98.48: 100%|█| 235/235 [01:01<00:00,  3\n"
     ]
    },
    {
     "name": "stdout",
     "output_type": "stream",
     "text": [
      "Test set: Average loss: 0.0330, Accuracy: 9904/10000 (99.04%)\n",
      "\n",
      "Adjusting learning rate of group 0 to 1.0000e-02.\n",
      "Epoch 8\n"
     ]
    },
    {
     "name": "stderr",
     "output_type": "stream",
     "text": [
      "Train: Loss=0.1546 Batch_id=234 Accuracy=98.52: 100%|█| 235/235 [01:01<00:00,  3\n"
     ]
    },
    {
     "name": "stdout",
     "output_type": "stream",
     "text": [
      "Test set: Average loss: 0.0284, Accuracy: 9910/10000 (99.10%)\n",
      "\n",
      "Adjusting learning rate of group 0 to 1.0000e-02.\n",
      "Epoch 9\n"
     ]
    },
    {
     "name": "stderr",
     "output_type": "stream",
     "text": [
      "Train: Loss=0.1443 Batch_id=234 Accuracy=98.59: 100%|█| 235/235 [01:01<00:00,  3\n"
     ]
    },
    {
     "name": "stdout",
     "output_type": "stream",
     "text": [
      "Test set: Average loss: 0.0312, Accuracy: 9902/10000 (99.02%)\n",
      "\n",
      "Adjusting learning rate of group 0 to 1.0000e-02.\n",
      "Epoch 10\n"
     ]
    },
    {
     "name": "stderr",
     "output_type": "stream",
     "text": [
      "Train: Loss=0.1520 Batch_id=234 Accuracy=98.75: 100%|█| 235/235 [01:00<00:00,  3\n"
     ]
    },
    {
     "name": "stdout",
     "output_type": "stream",
     "text": [
      "Test set: Average loss: 0.0258, Accuracy: 9919/10000 (99.19%)\n",
      "\n",
      "Adjusting learning rate of group 0 to 1.0000e-02.\n",
      "Epoch 11\n"
     ]
    },
    {
     "name": "stderr",
     "output_type": "stream",
     "text": [
      "Train: Loss=0.1476 Batch_id=234 Accuracy=98.73: 100%|█| 235/235 [01:00<00:00,  3\n"
     ]
    },
    {
     "name": "stdout",
     "output_type": "stream",
     "text": [
      "Test set: Average loss: 0.0293, Accuracy: 9910/10000 (99.10%)\n",
      "\n",
      "Adjusting learning rate of group 0 to 1.0000e-02.\n",
      "Epoch 12\n"
     ]
    },
    {
     "name": "stderr",
     "output_type": "stream",
     "text": [
      "Train: Loss=0.1273 Batch_id=234 Accuracy=98.80: 100%|█| 235/235 [01:00<00:00,  3\n"
     ]
    },
    {
     "name": "stdout",
     "output_type": "stream",
     "text": [
      "Test set: Average loss: 0.0257, Accuracy: 9920/10000 (99.20%)\n",
      "\n",
      "Adjusting learning rate of group 0 to 1.0000e-02.\n",
      "Epoch 13\n"
     ]
    },
    {
     "name": "stderr",
     "output_type": "stream",
     "text": [
      "Train: Loss=0.1200 Batch_id=234 Accuracy=98.76: 100%|█| 235/235 [01:00<00:00,  3\n"
     ]
    },
    {
     "name": "stdout",
     "output_type": "stream",
     "text": [
      "Test set: Average loss: 0.0248, Accuracy: 9926/10000 (99.26%)\n",
      "\n",
      "Adjusting learning rate of group 0 to 1.0000e-02.\n",
      "Epoch 14\n"
     ]
    },
    {
     "name": "stderr",
     "output_type": "stream",
     "text": [
      "Train: Loss=0.1294 Batch_id=234 Accuracy=98.78: 100%|█| 235/235 [00:58<00:00,  4\n"
     ]
    },
    {
     "name": "stdout",
     "output_type": "stream",
     "text": [
      "Test set: Average loss: 0.0254, Accuracy: 9917/10000 (99.17%)\n",
      "\n",
      "Adjusting learning rate of group 0 to 1.0000e-02.\n",
      "Epoch 15\n"
     ]
    },
    {
     "name": "stderr",
     "output_type": "stream",
     "text": [
      "Train: Loss=0.1534 Batch_id=234 Accuracy=98.89: 100%|█| 235/235 [00:59<00:00,  3\n"
     ]
    },
    {
     "name": "stdout",
     "output_type": "stream",
     "text": [
      "Test set: Average loss: 0.0236, Accuracy: 9927/10000 (99.27%)\n",
      "\n",
      "Adjusting learning rate of group 0 to 1.0000e-03.\n",
      "Epoch 16\n"
     ]
    },
    {
     "name": "stderr",
     "output_type": "stream",
     "text": [
      "Train: Loss=0.1169 Batch_id=234 Accuracy=99.00: 100%|█| 235/235 [00:58<00:00,  4\n"
     ]
    },
    {
     "name": "stdout",
     "output_type": "stream",
     "text": [
      "Test set: Average loss: 0.0214, Accuracy: 9928/10000 (99.28%)\n",
      "\n",
      "Adjusting learning rate of group 0 to 1.0000e-03.\n",
      "Epoch 17\n"
     ]
    },
    {
     "name": "stderr",
     "output_type": "stream",
     "text": [
      "Train: Loss=0.1099 Batch_id=234 Accuracy=99.06: 100%|█| 235/235 [00:59<00:00,  3\n"
     ]
    },
    {
     "name": "stdout",
     "output_type": "stream",
     "text": [
      "Test set: Average loss: 0.0210, Accuracy: 9932/10000 (99.32%)\n",
      "\n",
      "Adjusting learning rate of group 0 to 1.0000e-03.\n",
      "Epoch 18\n"
     ]
    },
    {
     "name": "stderr",
     "output_type": "stream",
     "text": [
      "Train: Loss=0.1205 Batch_id=234 Accuracy=99.06: 100%|█| 235/235 [00:59<00:00,  3\n"
     ]
    },
    {
     "name": "stdout",
     "output_type": "stream",
     "text": [
      "Test set: Average loss: 0.0208, Accuracy: 9933/10000 (99.33%)\n",
      "\n",
      "Adjusting learning rate of group 0 to 1.0000e-03.\n",
      "Epoch 19\n"
     ]
    },
    {
     "name": "stderr",
     "output_type": "stream",
     "text": [
      "Train: Loss=0.1046 Batch_id=234 Accuracy=99.02: 100%|█| 235/235 [00:57<00:00,  4\n"
     ]
    },
    {
     "name": "stdout",
     "output_type": "stream",
     "text": [
      "Test set: Average loss: 0.0212, Accuracy: 9933/10000 (99.33%)\n",
      "\n",
      "Adjusting learning rate of group 0 to 1.0000e-03.\n",
      "Epoch 20\n"
     ]
    },
    {
     "name": "stderr",
     "output_type": "stream",
     "text": [
      "Train: Loss=0.1269 Batch_id=234 Accuracy=99.11: 100%|█| 235/235 [00:58<00:00,  4\n"
     ]
    },
    {
     "name": "stdout",
     "output_type": "stream",
     "text": [
      "Test set: Average loss: 0.0206, Accuracy: 9937/10000 (99.37%)\n",
      "\n",
      "Adjusting learning rate of group 0 to 1.0000e-03.\n",
      "----------------------------------------------------------------\n",
      "        Layer (type)               Output Shape         Param #\n",
      "================================================================\n",
      "            Conv2d-1           [-1, 32, 26, 26]             288\n",
      "              ReLU-2           [-1, 32, 26, 26]               0\n",
      "       BatchNorm2d-3           [-1, 32, 26, 26]              64\n",
      "           Dropout-4           [-1, 32, 26, 26]               0\n",
      "            Conv2d-5           [-1, 16, 26, 26]             512\n",
      "              ReLU-6           [-1, 16, 26, 26]               0\n",
      "       BatchNorm2d-7           [-1, 16, 26, 26]              32\n",
      "           Dropout-8           [-1, 16, 26, 26]               0\n",
      "            Conv2d-9           [-1, 32, 24, 24]           4,608\n",
      "             ReLU-10           [-1, 32, 24, 24]               0\n",
      "      BatchNorm2d-11           [-1, 32, 24, 24]              64\n",
      "          Dropout-12           [-1, 32, 24, 24]               0\n",
      "           Conv2d-13           [-1, 16, 24, 24]             512\n",
      "             ReLU-14           [-1, 16, 24, 24]               0\n",
      "      BatchNorm2d-15           [-1, 16, 24, 24]              32\n",
      "          Dropout-16           [-1, 16, 24, 24]               0\n",
      "        MaxPool2d-17           [-1, 16, 12, 12]               0\n",
      "             ReLU-18           [-1, 16, 12, 12]               0\n",
      "      BatchNorm2d-19           [-1, 16, 12, 12]              32\n",
      "           Conv2d-20           [-1, 16, 10, 10]           2,304\n",
      "             ReLU-21           [-1, 16, 10, 10]               0\n",
      "      BatchNorm2d-22           [-1, 16, 10, 10]              32\n",
      "          Dropout-23           [-1, 16, 10, 10]               0\n",
      "           Conv2d-24             [-1, 32, 8, 8]           4,608\n",
      "             ReLU-25             [-1, 32, 8, 8]               0\n",
      "      BatchNorm2d-26             [-1, 32, 8, 8]              64\n",
      "          Dropout-27             [-1, 32, 8, 8]               0\n",
      "           Conv2d-28             [-1, 16, 8, 8]             512\n",
      "             ReLU-29             [-1, 16, 8, 8]               0\n",
      "      BatchNorm2d-30             [-1, 16, 8, 8]              32\n",
      "          Dropout-31             [-1, 16, 8, 8]               0\n",
      "        MaxPool2d-32             [-1, 16, 4, 4]               0\n",
      "             ReLU-33             [-1, 16, 4, 4]               0\n",
      "      BatchNorm2d-34             [-1, 16, 4, 4]              32\n",
      "           Linear-35                   [-1, 10]           2,560\n",
      "           Linear-36                   [-1, 10]             100\n",
      "================================================================\n",
      "Total params: 16,388\n",
      "Trainable params: 16,388\n",
      "Non-trainable params: 0\n",
      "----------------------------------------------------------------\n",
      "Input size (MB): 0.00\n",
      "Forward/backward pass size (MB): 2.04\n",
      "Params size (MB): 0.06\n",
      "Estimated Total Size (MB): 2.10\n",
      "----------------------------------------------------------------\n"
     ]
    }
   ],
   "source": [
    "utils.run_for_epoch(20, cnn_model, device, train_loader, test_loader, optimizer, scheduler)\n",
    "utils.get_model_summary(cnn_model, device, x, y)"
   ]
  },
  {
   "cell_type": "code",
   "execution_count": 12,
   "id": "58fd849c",
   "metadata": {},
   "outputs": [
    {
     "data": {
      "image/png": "[encoded data removed]",
      "text/plain": [
       "<Figure size 1500x1000 with 4 Axes>"
      ]
     },
     "metadata": {},
     "output_type": "display_data"
    }
   ],
   "source": [
    "utils.plot_loss_accuracy_graph()"
   ]
  }
 ],
 "metadata": {
  "kernelspec": {
   "display_name": "Python 3 (ipykernel)",
   "language": "python",
   "name": "python3"
  },
  "language_info": {
   "codemirror_mode": {
    "name": "ipython",
    "version": 3
   },
   "file_extension": ".py",
   "mimetype": "text/x-python",
   "name": "python",
   "nbconvert_exporter": "python",
   "pygments_lexer": "ipython3",
   "version": "3.8.10"
  }
 },
 "nbformat": 4,
 "nbformat_minor": 5
}
